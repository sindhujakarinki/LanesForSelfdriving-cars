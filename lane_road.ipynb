{
 "cells": [
  {
   "cell_type": "code",
   "execution_count": 1,
   "id": "71c9b0e7",
   "metadata": {},
   "outputs": [],
   "source": [
    "import cv2 as cv\n",
    "import numpy as np"
   ]
  },
  {
   "cell_type": "code",
   "execution_count": 2,
   "id": "9e0a9fc0",
   "metadata": {},
   "outputs": [],
   "source": [
    "def make_coordinates(image,line_parameters):\n",
    "    slope,intercept=line_parameters\n",
    "    y1=image.shape[0]\n",
    "    y2=int(y1*(3/5))\n",
    "    x1=int((y1-intercept)/slope)\n",
    "    x2=int((y2-intercept)/slope)\n",
    "    return np.array([x1,y1,x2,y2])\n",
    "def average_slope_intercept(image,lines):\n",
    "    left_fit=[]\n",
    "    right_fit=[]\n",
    "    if lines is None:\n",
    "        return None\n",
    "    for line in lines:\n",
    "        for x1,y1,x2,y2 in line:\n",
    "            parameters=np.polyfit((x1,x2),(y1,y2),1)\n",
    "            slope=parameters[0]\n",
    "            intercept=parameters[1]\n",
    "            if slope<0:\n",
    "                left_fit.append((slope,intercept))\n",
    "            else:\n",
    "                right_fit.append((slope,intercept))\n",
    "    left_fit_average=np.average(left_fit,axis=0)\n",
    "    right_fit_average=np.average(right_fit,axis=0)\n",
    "    left_line=make_coordinates(image,left_fit_average)\n",
    "    right_line=make_coordinates(image,right_fit_average)\n",
    "    return np.array([left_line,right_line])\n",
    "def canny(image):\n",
    "    gray=cv.cvtColor(image,cv.COLOR_RGB2GRAY)\n",
    "    blur=cv.GaussianBlur(gray,(5,5),0)\n",
    "    canny=cv.Canny(blur,50,150)\n",
    "    return canny\n",
    "def display_lines(image,lines):\n",
    "    line_image=np.zeros_like(image)\n",
    "    if lines is not None:\n",
    "        for x1,y1,x2,y2 in lines:\n",
    "            cv.line(line_image,(x1,y1),(x2,y2),(255,0,0),10)\n",
    "    return line_image\n",
    "def region_of_interest(image):\n",
    "    height=image.shape[0]\n",
    "    polygons=np.array([\n",
    "        [(200,height),(1100,height),(550,250)]\n",
    "    ])\n",
    "    mask=np.zeros_like(image)\n",
    "    cv.fillPoly(mask,polygons,255)\n",
    "    masked_image=cv.bitwise_and(image,mask)\n",
    "    return masked_image\n",
    "        \n",
    "# image=cv.imread(r\"C:\\Users\\jyotsnavi\\Desktop\\test_image.jpg\")\n",
    "# lane_image=np.copy(image)\n",
    "# canny_image= canny(lane_image)\n",
    "# cropped_image=region_of_interest(canny_image)\n",
    "# lines=cv.HoughLinesP(cropped_image,2,np.pi/180,100,np.array([]),minLineLength=40,maxLineGap=5)\n",
    "# averaged_lines=average_slope_intercept(lane_image,lines)\n",
    "# line_image=display_lines(lane_image,averaged_lines)\n",
    "# combo_image=cv.addWeighted(lane_image,0.8,line_image,1,1)\n",
    "# cv.imshow(\"result\",line_image)\n",
    "# cv.waitKey(0)\n",
    "cap=cv.VideoCapture(r\"C:\\Users\\jyotsnavi\\Desktop\\test2.mp4\")\n",
    "while(cap.isOpened()):\n",
    "    _, frame=cap.read()\n",
    "    canny_image=canny(frame)\n",
    "    cropped_image=region_of_interest(canny_image)\n",
    "    lines=cv.HoughLinesP(cropped_image,2,np.pi/180,100,np.array([]),minLineLength=40,maxLineGap=5)\n",
    "    averaged_lines=average_slope_intercept(frame,lines)\n",
    "    line_image=display_lines(frame,averaged_lines)\n",
    "    combo_image=cv.addWeighted(frame,0.8,line_image,1,1)\n",
    "    cv.imshow(\"result\",combo_image)\n",
    "    if cv.waitKey(1) & 0xFF== ord('q'):\n",
    "        break\n",
    "cap.release()\n",
    "cv.destroyAllWindows()\n"
   ]
  },
  {
   "cell_type": "code",
   "execution_count": null,
   "id": "261c11d7",
   "metadata": {},
   "outputs": [],
   "source": []
  },
  {
   "cell_type": "code",
   "execution_count": null,
   "id": "08f466db",
   "metadata": {},
   "outputs": [],
   "source": [
    "cv.destroyAllWindows()"
   ]
  },
  {
   "cell_type": "code",
   "execution_count": null,
   "id": "ddeada7f",
   "metadata": {},
   "outputs": [],
   "source": []
  }
 ],
 "metadata": {
  "kernelspec": {
   "display_name": "Python 3 (ipykernel)",
   "language": "python",
   "name": "python3"
  },
  "language_info": {
   "codemirror_mode": {
    "name": "ipython",
    "version": 3
   },
   "file_extension": ".py",
   "mimetype": "text/x-python",
   "name": "python",
   "nbconvert_exporter": "python",
   "pygments_lexer": "ipython3",
   "version": "3.9.7"
  }
 },
 "nbformat": 4,
 "nbformat_minor": 5
}
